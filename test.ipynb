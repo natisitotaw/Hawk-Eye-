{
 "cells": [
  {
   "cell_type": "code",
   "execution_count": 1,
   "metadata": {},
   "outputs": [
    {
     "name": "stderr",
     "output_type": "stream",
     "text": [
      "f:\\VideoViolence\\.venv\\lib\\site-packages\\tqdm\\auto.py:21: TqdmWarning: IProgress not found. Please update jupyter and ipywidgets. See https://ipywidgets.readthedocs.io/en/stable/user_install.html\n",
      "  from .autonotebook import tqdm as notebook_tqdm\n"
     ]
    }
   ],
   "source": [
    "from pytorchvideo.data import LabeledVideoDataset, make_clip_sampler,labeled_video_dataset\n",
    "\n",
    "import torch.nn as nn\n",
    "import torch\n",
    "from pytorch_lightning import LightningModule,seed_everything,Trainer\n",
    "from pytorch_lightning.callbacks import ModelCheckpoint, LearningRateMonitor\n",
    "from torch.optim.lr_scheduler import CosineAnnealingLR\n",
    "\n",
    "import torchmetrics"
   ]
  },
  {
   "cell_type": "code",
   "execution_count": 2,
   "metadata": {},
   "outputs": [
    {
     "name": "stderr",
     "output_type": "stream",
     "text": [
      "f:\\VideoViolence\\.venv\\lib\\site-packages\\torchvision\\transforms\\functional_tensor.py:5: UserWarning: The torchvision.transforms.functional_tensor module is deprecated in 0.15 and will be **removed in 0.17**. Please don't rely on it. You probably just need to use APIs in torchvision.transforms.functional or in torchvision.transforms.v2.functional.\n",
      "  warnings.warn(\n",
      "f:\\VideoViolence\\.venv\\lib\\site-packages\\torchvision\\transforms\\_functional_video.py:6: UserWarning: The 'torchvision.transforms._functional_video' module is deprecated since 0.12 and will be removed in the future. Please use the 'torchvision.transforms.functional' module instead.\n",
      "  warnings.warn(\n",
      "f:\\VideoViolence\\.venv\\lib\\site-packages\\torchvision\\transforms\\_transforms_video.py:22: UserWarning: The 'torchvision.transforms._transforms_video' module is deprecated since 0.12 and will be removed in the future. Please use the 'torchvision.transforms' module instead.\n",
      "  warnings.warn(\n"
     ]
    }
   ],
   "source": [
    "from pytorchvideo.transforms import (\n",
    "    ApplyTransformToKey,\n",
    "    Normalize,\n",
    "    RandomShortSideScale,\n",
    "    UniformTemporalSubsample,\n",
    "    Permute\n",
    ")\n",
    "\n",
    "from torchvision.transforms import (\n",
    "    Compose,\n",
    "    Lambda,\n",
    "    RandomCrop,\n",
    "    RandomHorizontalFlip,\n",
    "    Resize\n",
    ")\n",
    "\n",
    "from torchvision.transforms._transforms_video import (\n",
    "    CenterCropVideo,\n",
    "    NormalizeVideo\n",
    ")\n"
   ]
  },
  {
   "cell_type": "code",
   "execution_count": 3,
   "metadata": {},
   "outputs": [],
   "source": [
    "video_transform = Compose([\n",
    "    ApplyTransformToKey(key='video',\n",
    "    transform = Compose([\n",
    "        UniformTemporalSubsample(20),\n",
    "        Lambda(lambda x:x/255),\n",
    "        Normalize((0.45,0.45,0.45),(0.225,0.225,0.225)),\n",
    "        RandomShortSideScale(min_size=248,max_size=256),\n",
    "        CenterCropVideo(224),\n",
    "        RandomHorizontalFlip(p=0.5)\n",
    "    ]),\n",
    "    ),\n",
    "])\n"
   ]
  },
  {
   "cell_type": "code",
   "execution_count": 4,
   "metadata": {},
   "outputs": [],
   "source": [
    "class OurModel(LightningModule):\n",
    "    def __init__(self):\n",
    "        super(OurModel, self).__init__()\n",
    "        self.video_model = torch.hub.load('facebookresearch/pytorchvideo', 'efficient_x3d_xs', pretrained=True)\n",
    "        self.relu = nn.ReLU()  # Fixed typo\n",
    "        self.linear = nn.Linear(400, 1)  # Confirm input and output dimensions\n",
    "        \n",
    "        self.lr = 1e-3\n",
    "        self.batch_size = 8\n",
    "        self.numworker = 3\n",
    "        \n",
    "        self.metric = torchmetrics.Accuracy(task=\"binary\")\n",
    "        self.criterion = nn.BCEWithLogitsLoss()\n",
    "        \n",
    "        # Initialize validation step outputs list\n",
    "        self.validation_step_outputs = []\n",
    "        self.train_step_outputs = []\n",
    "        self.test_step_outputs = []\n",
    "    \n",
    "    def forward(self, x):\n",
    "        x = self.video_model(x)\n",
    "        x = self.relu(x)\n",
    "        x = self.linear(x)\n",
    "        return x\n",
    "    \n",
    "    def configure_optimizers(self):\n",
    "        opt = torch.optim.AdamW(params=self.parameters(), lr=self.lr)  # Fixed typo\n",
    "        scheduler = CosineAnnealingLR(opt, T_max=10, eta_min=1e-6, last_epoch=-1)  # Define T_0\n",
    "        return {\"optimizer\": opt, \"lr_scheduler\": scheduler}\n",
    "    def train_dataloader(self):\n",
    "        dataset = labeled_video_dataset(train_df,\n",
    "                                      clip_sampler=make_clip_sampler('random',2),\n",
    "                                      transform=video_transform,decode_audio=False,)\n",
    "        loader = DataLoader(dataset,batch_size=self.batch_size,num_workers=self.numworker,pin_memory=True)\n",
    "        return loader\n",
    "    def training_step(self, batch, batch_idx):\n",
    "        video, label = batch['video'], batch['label']\n",
    "        out = self(video)\n",
    "        loss = self.criterion(out, label)\n",
    "        metric = self.metric(out, label.to(torch.int64))\n",
    "        \n",
    "        # Append training loss to outputs list\n",
    "        self.train_step_outputs.append(loss.item())\n",
    "        return {\"loss\": loss, \"metric\": metric.detach()}\n",
    "    def on_train_epoch_end(self):\n",
    "        # Compute the average training loss\n",
    "        epoch_average = torch.tensor(self.train_step_outputs).mean()\n",
    "        \n",
    "        # Log the average training loss\n",
    "        self.log(\"train_loss\", epoch_average.item())\n",
    "        \n",
    "        # Clear the training step outputs list\n",
    "        self.train_step_outputs.clear()\n",
    "\n",
    "\n",
    "    def val_dataloader(self):\n",
    "        dataset = labeled_video_dataset(val_df,\n",
    "                                      clip_sampler=make_clip_sampler('random',2),\n",
    "                                      transform=video_transform,decode_audio=False,)\n",
    "        loader = DataLoader(dataset,batch_size=self.batch_size,num_workers=self.numworker,pin_memory=True)\n",
    "        return loader\n",
    "    \n",
    "    def validation_step(self, batch, batch_idx):\n",
    "        video, label = batch['video'], batch['label']\n",
    "        out = self(video)\n",
    "        loss = self.criterion(out, label)\n",
    "        metric = self.metric(out, label.to(torch.int64))\n",
    "        \n",
    "        # Append validation loss to outputs list\n",
    "        self.validation_step_outputs.append(loss.item())\n",
    "        return {\"loss\": loss, \"metric\": metric.detach()}\n",
    "    \n",
    "    def on_validation_epoch_end(self):\n",
    "        # Compute the average validation loss\n",
    "        epoch_average = torch.tensor(self.validation_step_outputs).mean()\n",
    "        \n",
    "        # Log the average validation loss\n",
    "        self.log(\"val_loss\", epoch_average.item())\n",
    "        \n",
    "        # Clear the validation step outputs list\n",
    "        self.validation_step_outputs.clear()\n",
    "        \n",
    "    def test_dataloader(self):\n",
    "        dataset = labeled_video_dataset(val_df,\n",
    "                                      clip_sampler=make_clip_sampler('random',2),\n",
    "                                      transform=video_transform,decode_audio=False,)\n",
    "        loader = DataLoader(dataset,batch_size=self.batch_size,num_workers=self.numworker,pin_memory=True)\n",
    "        return loader\n",
    "    def test_step(self, batch, batch_idx):\n",
    "        video, label = batch['video'], batch['label']\n",
    "        out = self(video)\n",
    "        loss = self.criterion(out, label)\n",
    "        \n",
    "        # Append test loss to outputs list\n",
    "        self.test_step_outputs.append(loss.item())\n",
    "        return {\"loss\": loss}\n",
    "    def on_test_epoch_end(self):\n",
    "        # Compute the average test loss\n",
    "        epoch_average = torch.tensor(self.test_step_outputs).mean()\n",
    "        \n",
    "        # Log the average test loss\n",
    "        self.log(\"test_loss\", epoch_average.item())\n",
    "        \n",
    "        # Clear the test step outputs list\n",
    "        self.test_step_outputs.clear()\n",
    "\n"
   ]
  },
  {
   "cell_type": "code",
   "execution_count": 5,
   "metadata": {},
   "outputs": [
    {
     "name": "stderr",
     "output_type": "stream",
     "text": [
      "Using cache found in C:\\Users\\natis/.cache\\torch\\hub\\facebookresearch_pytorchvideo_main\n"
     ]
    }
   ],
   "source": [
    "# Path to the checkpoint\n",
    "checkpoint_path = 'last.ckpt'\n",
    "\n",
    "# Load the model\n",
    "model = OurModel.load_from_checkpoint(checkpoint_path)"
   ]
  },
  {
   "cell_type": "code",
   "execution_count": 6,
   "metadata": {},
   "outputs": [],
   "source": [
    "from pytorchvideo.data.encoded_video import EncodedVideo\n",
    "video = EncodedVideo.from_path('test_video.mp4')"
   ]
  },
  {
   "cell_type": "code",
   "execution_count": 7,
   "metadata": {},
   "outputs": [
    {
     "name": "stdout",
     "output_type": "stream",
     "text": [
      "torch.Size([3, 60, 1080, 1920])\n",
      "torch.Size([3, 20, 224, 224])\n"
     ]
    }
   ],
   "source": [
    "video_data = video.get_clip(0,2)\n",
    "print(video_data['video'].shape)\n",
    "video_data = video_transform(video_data)\n",
    "print(video_data['video'].shape)"
   ]
  },
  {
   "cell_type": "code",
   "execution_count": 8,
   "metadata": {},
   "outputs": [
    {
     "name": "stdout",
     "output_type": "stream",
     "text": [
      "torch.Size([1, 3, 20, 224, 224])\n"
     ]
    }
   ],
   "source": [
    "\n",
    "inputs = video_data['video']\n",
    "inputs = torch.unsqueeze(inputs,0)\n",
    "print(inputs.shape)"
   ]
  },
  {
   "cell_type": "code",
   "execution_count": 9,
   "metadata": {},
   "outputs": [
    {
     "name": "stdout",
     "output_type": "stream",
     "text": [
      "0.9010360734173022\n"
     ]
    }
   ],
   "source": [
    "pred = model(inputs)\n",
    "pred = pred.detach().cpu().numpy()\n",
    "\n",
    "import numpy as np\n",
    "# Apply sigmoid to convert logit to probability\n",
    "probability = 1 / (1 + np.exp(-(pred[0][0])))\n",
    "print(probability)  # This will give a probability between 0 and 1"
   ]
  },
  {
   "cell_type": "code",
   "execution_count": 10,
   "metadata": {},
   "outputs": [
    {
     "data": {
      "text/plain": [
       "array([[1]])"
      ]
     },
     "execution_count": 10,
     "metadata": {},
     "output_type": "execute_result"
    }
   ],
   "source": [
    "pred = np.where(pred >= 0.5,1,0)\n",
    "pred"
   ]
  }
 ],
 "metadata": {
  "kernelspec": {
   "display_name": ".venv",
   "language": "python",
   "name": "python3"
  },
  "language_info": {
   "codemirror_mode": {
    "name": "ipython",
    "version": 3
   },
   "file_extension": ".py",
   "mimetype": "text/x-python",
   "name": "python",
   "nbconvert_exporter": "python",
   "pygments_lexer": "ipython3",
   "version": "3.10.11"
  }
 },
 "nbformat": 4,
 "nbformat_minor": 2
}
